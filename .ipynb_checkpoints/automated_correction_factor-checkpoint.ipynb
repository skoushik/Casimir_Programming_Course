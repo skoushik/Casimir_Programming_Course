{
 "cells": [
  {
   "cell_type": "markdown",
   "source": [
    "<h1>Automated correction factors calculation from smFRET data</h1>\n",
    "\n",
    "This notebook contains scripts to automatically calculate the correction factors for TIRF-based smFRET data and apply those corrections to the dataset"
   ],
   "metadata": {
    "collapsed": false
   }
  },
  {
   "cell_type": "code",
   "execution_count": 1,
   "metadata": {
    "collapsed": true,
    "ExecuteTime": {
     "end_time": "2023-07-03T13:50:47.247910400Z",
     "start_time": "2023-07-03T13:50:40.142155600Z"
    }
   },
   "outputs": [],
   "source": [
    "#Import necessary packages\n",
    "import xarray as xr             #For data retreival and processing\n",
    "import matplotlib.pyplot as plt #For plotting\n",
    "import numpy as np              #For processing arrays\n",
    "import glob, os                 #For folder search\n"
   ]
  },
  {
   "cell_type": "code",
   "execution_count": 2,
   "outputs": [],
   "source": [
    "def total_mean_int(root_path, frames=[0,13]):\n",
    "    # root_path = r'E:\\Data\\02 FRETFluc\\20230217_138p_7N_3N_R1P_Cy3_Fluo\\ch_138p_R1P_Cy3_500ms'\n",
    "    nc_list = glob.glob(root_path)\n",
    "    fr1,fr2 = frames    #Number of frames to extract\n",
    "    ds = []             #Array to store individual .nc datasets (necessary??)\n",
    "    donor_intensity = []    #Array to store donor intensities from datasets\n",
    "    acceptor_intensity = [] #Array to store acceptor intensities from datasets\n",
    "    #acceptor_excitation = []    #Array to store acceptor intensities (from acceptor excitation) from datasets (not used currently)\n",
    "\n",
    "    #Loop through all .nc files and extract donor and acceptor intensities\n",
    "    for fname in nc_list:\n",
    "        nc_fname = os.path.join(root_path, fname)\n",
    "        # nc_fname = os.path.join(root_path, f'*.nc')\n",
    "        tmp_ds = xr.open_dataset(nc_fname, engine='h5netcdf')\n",
    "        ds.append(tmp_ds)\n",
    "        donor_intensity.append(tmp_ds.intensity[:,0].isel(frame=slice(fr1,fr2)).mean(\"frame\"))\n",
    "        acceptor_intensity.append(tmp_ds.intensity[:,1].isel(frame=slice(fr1,fr2)).mean(\"frame\"))\n",
    "        # acceptor_excitation.append(tmp_ds.intensity[:,1,1::2].isel(frame=slice(fr1,fr2)).mean(\"frame\"))\n",
    "\n",
    "    d_int = []\n",
    "    a_int = []\n",
    "    # a_exc = []\n",
    "    #Rewrite this part using numpy's function -- flattening the array\n",
    "    for i in range(len(donor_intensity)):\n",
    "        d_int = np.concatenate((donor_intensity[i],d_int))\n",
    "        a_int = np.concatenate((acceptor_intensity[i],a_int))\n",
    "        # a_exc = np.concatenate((acceptor_excitation[i],a_exc))\n",
    "    return d_int, a_int"
   ],
   "metadata": {
    "collapsed": false,
    "ExecuteTime": {
     "end_time": "2023-07-03T13:54:26.983884400Z",
     "start_time": "2023-07-03T13:54:26.975966600Z"
    }
   }
  },
  {
   "cell_type": "code",
   "execution_count": 13,
   "outputs": [
    {
     "data": {
      "text/plain": "<Figure size 640x480 with 1 Axes>",
      "image/png": "[encoded data removed]"
     },
     "metadata": {},
     "output_type": "display_data"
    }
   ],
   "source": [
    "\n",
    "#Import folder with .nc files (excluding background correction files)\n",
    "donor_int, acceptor_int = total_mean_int(r'C:\\Experiments\\00 Data\\02 FRETFluc\\20230626_Testing_Cy3_Cy5_fluorescence_PCR_hyb_on_chip_hyb\\ch01_PCR_hyb_old_sample_ht_ff1\\*[!corrections].nc')\n",
    "\n",
    "#Bins for intensity and FRET efficiency\n",
    "bins_i = np.arange(0, 2000, 50)     #For TIR-S, 0-2000 is reasonable -- change it for other microscopes\n",
    "bins_f = np.arange(-0.2,1.2,0.01)   #FRET efficiency spanning 0 to 1, but padded by 0.2 on either end\n",
    "\n",
    "#Calculate total intensity and FRET efficiency for the dataset\n",
    "total_intensity = donor_int + acceptor_int\n",
    "fret = acceptor_int / (total_intensity)\n",
    "\n",
    "#Plot 2D-histogram of Total Intensity v/s FRET Efficiency\n",
    "plt.hist2d(fret, total_intensity, bins=[bins_f,bins_i])\n",
    "plt.show()"
   ],
   "metadata": {
    "collapsed": false,
    "ExecuteTime": {
     "end_time": "2023-07-03T13:59:31.842949200Z",
     "start_time": "2023-07-03T13:59:31.461887800Z"
    }
   }
  }
 ],
 "metadata": {
  "kernelspec": {
   "display_name": "Python 3",
   "language": "python",
   "name": "python3"
  },
  "language_info": {
   "codemirror_mode": {
    "name": "ipython",
    "version": 2
   },
   "file_extension": ".py",
   "mimetype": "text/x-python",
   "name": "python",
   "nbconvert_exporter": "python",
   "pygments_lexer": "ipython2",
   "version": "2.7.6"
  }
 },
 "nbformat": 4,
 "nbformat_minor": 0
}
